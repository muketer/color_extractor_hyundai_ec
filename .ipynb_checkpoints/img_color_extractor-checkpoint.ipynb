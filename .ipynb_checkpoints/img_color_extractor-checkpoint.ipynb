{
 "cells": [
  {
   "cell_type": "code",
   "execution_count": 1,
   "metadata": {},
   "outputs": [],
   "source": [
    "import numpy as np\n",
    "import cv2\n",
    "from sklearn.cluster import KMeans\n",
    "import matplotlib.pyplot as plt\n",
    "import pandas as pd\n",
    "from colormap import rgb2hex"
   ]
  },
  {
   "cell_type": "code",
   "execution_count": 2,
   "metadata": {},
   "outputs": [],
   "source": [
    "img_path = 'img3.jpg'\n",
    "no_cluster = 50\n",
    "n_init_cluster = 100"
   ]
  },
  {
   "cell_type": "code",
   "execution_count": 3,
   "metadata": {},
   "outputs": [],
   "source": [
    "def img_converter(path=''):\n",
    "    if path=='':\n",
    "        print('insert file path!')\n",
    "        return\n",
    "    \n",
    "    img = cv2.imread(path)\n",
    "    img = cv2.cvtColor(img, cv2.COLOR_BGR2RGB)\n",
    "    img = img.reshape((img.shape[0]*img.shape[1], 3))\n",
    "    \n",
    "    return img"
   ]
  },
  {
   "cell_type": "code",
   "execution_count": 4,
   "metadata": {},
   "outputs": [],
   "source": [
    "def clustering(img, k=3, n_init=10):\n",
    "    clt = KMeans(n_clusters=k, n_init=n_init)\n",
    "    clt.fit(img)\n",
    "    \n",
    "    num_labels = np.arange(0, len(np.unique(clt.labels_)) + 1)\n",
    "    (hist, _) = np.histogram(clt.labels_, bins=num_labels)\n",
    "    hist = hist.astype('float')\n",
    "    hist /= hist.sum()\n",
    "    \n",
    "    return hist, clt.cluster_centers_"
   ]
  },
  {
   "cell_type": "code",
   "execution_count": 5,
   "metadata": {},
   "outputs": [],
   "source": [
    "def sort_by_ratio(ratio_, center_):\n",
    "    stacked_arr = np.hstack((ratio_.reshape(-1, 1), center_))\n",
    "    sorted_values_df = pd.DataFrame(stacked_arr, columns=['ratio', 'r', 'g', 'b']).sort_values('ratio', ascending=False)\n",
    "    sorted_ratio_ = sorted_values_df.values[:, :1].reshape(-1)\n",
    "    sorted_rgb_ = sorted_values_df.values[:, 1:]\n",
    "    \n",
    "    return sorted_ratio_, sorted_rgb_"
   ]
  },
  {
   "cell_type": "code",
   "execution_count": 6,
   "metadata": {},
   "outputs": [],
   "source": [
    "def make_bar_all_color(values):\n",
    "    bar = np.zeros((25, 80, 3), dtype='uint8')\n",
    "    start_x = 0\n",
    "    \n",
    "    for color in values:\n",
    "        end_x = start_x + (bar.shape[1]/values.shape[0])\n",
    "        cv2.rectangle(bar, (int(start_x), 0), (int(end_x), bar.shape[0]),\n",
    "                     color.astype('uint8').tolist(), -1)\n",
    "        start_x = end_x\n",
    "    \n",
    "    return bar"
   ]
  },
  {
   "cell_type": "code",
   "execution_count": 7,
   "metadata": {},
   "outputs": [],
   "source": [
    "def make_bar_representitive_color(value):\n",
    "    bar = np.zeros((5, 5, 3), dtype='uint8')\n",
    "    \n",
    "    cv2.rectangle(bar, (0, 0), (bar.shape[1], bar.shape[1]),\n",
    "                 value, -1)\n",
    "    \n",
    "    return bar"
   ]
  },
  {
   "cell_type": "code",
   "execution_count": 8,
   "metadata": {},
   "outputs": [],
   "source": [
    "def color_show(box, x=10, y=50):\n",
    "    plt.figure(figsize=(x, y))\n",
    "    plt.axis('off')\n",
    "    plt.imshow(box)\n",
    "    plt.show()"
   ]
  },
  {
   "cell_type": "code",
   "execution_count": 9,
   "metadata": {},
   "outputs": [],
   "source": [
    "def ratio_show(values):\n",
    "    for idx, value in enumerate(values*100):\n",
    "        if idx==(len(values)-1):\n",
    "            print('{:.2f}%'.format(value), end='')\n",
    "        else:\n",
    "            print('{:.2f}%'.format(value), end=' / ')"
   ]
  },
  {
   "cell_type": "code",
   "execution_count": 10,
   "metadata": {},
   "outputs": [],
   "source": [
    "def make_representitive_color(ratios_, rgbs_):\n",
    "    percent_under1 = []\n",
    "    for value in ratios_:\n",
    "        percent_under1.append(float('{:.3f}'.format(value)))\n",
    "    \n",
    "    r_ele = []\n",
    "    for value, percent in zip(rgbs_.astype('uint8')[:,:1].reshape(-1), percent_under1):\n",
    "        r_ele.append(value*percent)\n",
    "    g_ele = []\n",
    "    for value, percent in zip(rgbs_.astype('uint8')[:,1:2].reshape(-1), percent_under1):\n",
    "        g_ele.append(value*percent)\n",
    "    b_ele = []\n",
    "    for value, percent in zip(rgbs_.astype('uint8')[:,2:3].reshape(-1), percent_under1):\n",
    "        b_ele.append(value*percent)\n",
    "    rgb_rep_color = (int(sum(r_ele)), int(sum(g_ele)), int(sum(b_ele)))\n",
    "    \n",
    "    return rgb_rep_color, rgb2hex(rgb_rep_color[0], rgb_rep_color[1], rgb_rep_color[2])"
   ]
  },
  {
   "cell_type": "code",
   "execution_count": 11,
   "metadata": {},
   "outputs": [],
   "source": [
    "image = img_converter(img_path)"
   ]
  },
  {
   "cell_type": "code",
   "execution_count": 12,
   "metadata": {},
   "outputs": [
    {
     "name": "stdout",
     "output_type": "stream",
     "text": [
      "Wall time: 9min 37s\n"
     ]
    }
   ],
   "source": [
    "%time color_ratio, cluster_center = clustering(image, k=no_cluster, n_init=n_init_cluster)"
   ]
  },
  {
   "cell_type": "code",
   "execution_count": 13,
   "metadata": {},
   "outputs": [],
   "source": [
    "sorted_ratio, sorted_rgb = sort_by_ratio(color_ratio, cluster_center)"
   ]
  },
  {
   "cell_type": "code",
   "execution_count": 14,
   "metadata": {},
   "outputs": [],
   "source": [
    "box_all = make_bar_all_color(sorted_rgb)"
   ]
  },
  {
   "cell_type": "code",
   "execution_count": 15,
   "metadata": {},
   "outputs": [
    {
     "data": {
      "image/png": "[encoded data removed]",
      "text/plain": [
       "<Figure size 720x3600 with 1 Axes>"
      ]
     },
     "metadata": {
      "needs_background": "light"
     },
     "output_type": "display_data"
    },
    {
     "name": "stdout",
     "output_type": "stream",
     "text": [
      "9.53% / 8.10% / 7.08% / 4.79% / 2.69% / 2.68% / 2.61% / 2.56% / 2.51% / 2.44% / 2.37% / 2.30% / 2.13% / 2.12% / 2.01% / 1.98% / 1.77% / 1.72% / 1.64% / 1.59% / 1.58% / 1.56% / 1.50% / 1.49% / 1.49% / 1.49% / 1.46% / 1.45% / 1.42% / 1.40% / 1.37% / 1.36% / 1.35% / 1.32% / 1.30% / 1.28% / 1.28% / 1.25% / 1.22% / 1.22% / 1.10% / 1.06% / 0.96% / 0.95% / 0.86% / 0.79% / 0.67% / 0.48% / 0.41% / 0.31%"
     ]
    },
    {
     "data": {
      "text/plain": [
       "(None, None)"
      ]
     },
     "execution_count": 15,
     "metadata": {},
     "output_type": "execute_result"
    }
   ],
   "source": [
    "color_show(box_all), ratio_show(sorted_ratio)"
   ]
  },
  {
   "cell_type": "code",
   "execution_count": 16,
   "metadata": {},
   "outputs": [],
   "source": [
    "rep_color, rep_code = make_representitive_color(sorted_ratio, sorted_rgb)"
   ]
  },
  {
   "cell_type": "code",
   "execution_count": 17,
   "metadata": {},
   "outputs": [],
   "source": [
    "box_rep = make_bar_representitive_color(rep_color)"
   ]
  },
  {
   "cell_type": "code",
   "execution_count": 18,
   "metadata": {},
   "outputs": [
    {
     "data": {
      "image/png": "[encoded data removed]",
      "text/plain": [
       "<Figure size 144x144 with 1 Axes>"
      ]
     },
     "metadata": {
      "needs_background": "light"
     },
     "output_type": "display_data"
    },
    {
     "data": {
      "text/plain": [
       "('#E2D3BE', (226, 211, 190))"
      ]
     },
     "execution_count": 18,
     "metadata": {},
     "output_type": "execute_result"
    }
   ],
   "source": [
    "color_show(box_rep, 2, 2)\n",
    "rep_code, rep_color"
   ]
  },
  {
   "cell_type": "markdown",
   "metadata": {},
   "source": [
    " "
   ]
  },
  {
   "cell_type": "markdown",
   "metadata": {},
   "source": [
    " "
   ]
  }
 ],
 "metadata": {
  "kernelspec": {
   "display_name": "Python 3",
   "language": "python",
   "name": "python3"
  },
  "language_info": {
   "codemirror_mode": {
    "name": "ipython",
    "version": 3
   },
   "file_extension": ".py",
   "mimetype": "text/x-python",
   "name": "python",
   "nbconvert_exporter": "python",
   "pygments_lexer": "ipython3",
   "version": "3.6.7"
  }
 },
 "nbformat": 4,
 "nbformat_minor": 2
}
